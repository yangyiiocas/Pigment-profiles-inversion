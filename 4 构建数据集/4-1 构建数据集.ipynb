{
 "cells": [
  {
   "cell_type": "code",
   "execution_count": 1,
   "id": "46c37276",
   "metadata": {},
   "outputs": [],
   "source": [
    "import pickle\n",
    "import datetime\n",
    "import numpy as np\n",
    "import Dataset\n",
    "import CalZeu"
   ]
  },
  {
   "cell_type": "code",
   "execution_count": 2,
   "id": "6d2dcd1f",
   "metadata": {},
   "outputs": [],
   "source": [
    "with open(\"../0 save inner data/2 sorted_pigments_all.pkl\", 'rb') as f:\n",
    "    SOURCES, DATES, LONS, LATS, DEPTHS, PIGMENTS, USE_PIGMENTS = pickle.load(f)"
   ]
  },
  {
   "cell_type": "code",
   "execution_count": 3,
   "id": "4b9b062d",
   "metadata": {},
   "outputs": [],
   "source": [
    "SOURCES, DATES, LONS, LATS, DEPTHS = np.array(SOURCES), np.array(DATES), np.array(LONS), np.array(LATS), np.array(DEPTHS)\n",
    "for var in PIGMENTS: PIGMENTS[var] = np.array(PIGMENTS[var])\n",
    "for var in USE_PIGMENTS: USE_PIGMENTS[var] = np.array(USE_PIGMENTS[var])"
   ]
  },
  {
   "cell_type": "code",
   "execution_count": 4,
   "id": "64986c00",
   "metadata": {},
   "outputs": [],
   "source": [
    "dataset = {}\n",
    "\n",
    "for i in range(len(SOURCES)):\n",
    "    mk = \"{:0>4d}\\t{:0>2d}\\t{:0>2d}\\t{:0>4d}\\t{:0>4d}\\t{:0>3d}\".format(DATES[i].year,\n",
    "                                                                       DATES[i].month,\n",
    "                                                                       DATES[i].day,\n",
    "                                                                       int(np.round(LATS[i]*100)),\n",
    "                                                                       int(np.round(LONS[i]*100)),\n",
    "                                                                       int(np.round(DEPTHS[i])))\n",
    "    if mk not in dataset:\n",
    "        dataset[mk] = Dataset.Dataset(date=datetime.datetime(year=DATES[i].year,\n",
    "                                                             month=DATES[i].month,\n",
    "                                                             day=DATES[i].day),\n",
    "                                      lon=np.round(LONS[i],2),\n",
    "                                      lat=np.round(LATS[i],2),\n",
    "                                      depth=np.round(DEPTHS[i]))\n",
    "\n",
    "    dataset[mk].add_index(i)"
   ]
  },
  {
   "cell_type": "code",
   "execution_count": 5,
   "id": "602cceeb",
   "metadata": {},
   "outputs": [
    {
     "name": "stderr",
     "output_type": "stream",
     "text": [
      "C:\\Users\\yy\\AppData\\Roaming\\Python\\Python39\\site-packages\\numpy\\lib\\nanfunctions.py:1215: RuntimeWarning: Mean of empty slice\n",
      "  return np.nanmean(a, axis, out=out, keepdims=keepdims)\n"
     ]
    }
   ],
   "source": [
    "for mk in dataset:\n",
    "    index = np.array(dataset[mk].index)\n",
    "    # source\n",
    "    dataset[mk].add_source(list(  np.sort(np.unique(SOURCES[index]))  ))\n",
    "    # pigments&pigments_use\n",
    "    dataset[mk].add_pigments(  {p:np.nanmedian(PIGMENTS[p][index][USE_PIGMENTS[p][index]]) for p in PIGMENTS}  )\n",
    "    dataset[mk].add_pigments_use(  {p:~np.isnan(dataset[mk].pigments[p]) for p in dataset[mk].pigments}  )"
   ]
  },
  {
   "cell_type": "code",
   "execution_count": 6,
   "id": "99716390",
   "metadata": {},
   "outputs": [
    {
     "name": "stdout",
     "output_type": "stream",
     "text": [
      "(86327, 15, 3, 3)\n"
     ]
    }
   ],
   "source": [
    "# with open(\"I:/satellite match data/SSTday.pkl\",'rb') as f:\n",
    "#     SSTday = pickle.load(f)   \n",
    "# with open(\"I:/satellite match data/SSTnight.pkl\",'rb') as f:\n",
    "#     SSTnight = pickle.load(f)\n",
    "    \n",
    "with open(\"I:/satellite match data/sal.pkl\",'rb') as f:\n",
    "    sal = pickle.load(f) \n",
    "with open(\"I:/satellite match data/tem.pkl\",'rb') as f:\n",
    "    tem = pickle.load(f) \n",
    "with open(\"I:/satellite match data/uo.pkl\",'rb') as f:\n",
    "    uo = pickle.load(f) \n",
    "with open(\"I:/satellite match data/vo.pkl\",'rb') as f:\n",
    "    vo = pickle.load(f)\n",
    "with open(\"I:/satellite match data/ssh.pkl\",'rb') as f:\n",
    "    ssh = pickle.load(f)\n",
    "with open(\"I:/satellite match data/mld.pkl\",'rb') as f:\n",
    "    mld = pickle.load(f)\n",
    "    \n",
    "with open(\"I:/satellite match data/Rrs412.pkl\",'rb') as f:\n",
    "    Rrs412 = pickle.load(f)  \n",
    "with open(\"I:/satellite match data/Rrs443.pkl\",'rb') as f:\n",
    "    Rrs443 = pickle.load(f)  \n",
    "with open(\"I:/satellite match data/Rrs490.pkl\",'rb') as f:\n",
    "    Rrs490 = pickle.load(f)  \n",
    "with open(\"I:/satellite match data/Rrs510.pkl\",'rb') as f:\n",
    "    Rrs510 = pickle.load(f)  \n",
    "with open(\"I:/satellite match data/Rrs560.pkl\",'rb') as f:\n",
    "    Rrs560 = pickle.load(f)  \n",
    "with open(\"I:/satellite match data/Rrs665.pkl\",'rb') as f:\n",
    "    Rrs665 = pickle.load(f) \n",
    "with open(\"I:/satellite match data/chla.pkl\",'rb') as f:\n",
    "    chla = pickle.load(f)  \n",
    "\n",
    "    \n",
    "# with open(\"I:/0 save inner data/satellite match data/sla.pkl\",'rb') as f:\n",
    "#     sla = pickle.load(f)\n",
    "# with open(\"I:/0 save inner data/satellite match data/ugos.pkl\",'rb') as f:\n",
    "#     ugos = pickle.load(f)\n",
    "# with open(\"I:/0 save inner data/satellite match data/vgos.pkl\",'rb') as f:\n",
    "#     vgos = pickle.load(f)   \n",
    "    \n",
    "print(sal.shape)"
   ]
  },
  {
   "cell_type": "code",
   "execution_count": 7,
   "id": "474031f8",
   "metadata": {},
   "outputs": [
    {
     "name": "stderr",
     "output_type": "stream",
     "text": [
      "C:\\Users\\yy\\AppData\\Local\\Temp\\ipykernel_24564\\3844542987.py:35: RuntimeWarning: Mean of empty slice\n",
      "  sate_match[item] = np.nanmean(sate_match_item,axis=1)\n",
      "C:\\Users\\yy\\AppData\\Local\\Temp\\ipykernel_24564\\3844542987.py:44: RuntimeWarning: Mean of empty slice\n",
      "  RR12 = np.nanmean(sate_match[\"Rrs412\"])/np.nanmean(sate_match[\"Rrs443\"])\n",
      "C:\\Users\\yy\\AppData\\Local\\Temp\\ipykernel_24564\\3844542987.py:45: RuntimeWarning: Mean of empty slice\n",
      "  RR53 = np.nanmean(sate_match[\"Rrs560\"])/np.nanmean(sate_match[\"Rrs490\"])\n",
      "C:\\Users\\yy\\AppData\\Local\\Temp\\ipykernel_24564\\3844542987.py:50: RuntimeWarning: Mean of empty slice\n",
      "  strict_case1 = ((1-nu)*Rrs555_CS1<=np.nanmean(sate_match[\"Rrs560\"]))&(np.nanmean(sate_match[\"Rrs560\"])<=(1+nu)*Rrs555_CS1)\n"
     ]
    }
   ],
   "source": [
    "z1 = []\n",
    "z05 = []\n",
    "\n",
    "# satellite_match&satellite_match_use\n",
    "for mk in dataset:\n",
    "    index = dataset[mk].index[0]\n",
    "    sate_match = {\n",
    "                  \"tem\":tem[index],\n",
    "                  \"sal\":sal[index],\n",
    "                  \"uo\":uo[index],\n",
    "                  \"vo\":vo[index],\n",
    "                  \"mld\":mld[index],\n",
    "                  \"ssh\":ssh[index],\n",
    "#                   \"SSTday\":SSTday[index]-273.15,\n",
    "#                   \"SSTnight\":SSTnight[index]-273.15,\n",
    "                  \"Rrs412\":Rrs412[index],\n",
    "                  \"Rrs443\":Rrs443[index],\n",
    "                  \"Rrs490\":Rrs490[index],\n",
    "                  \"Rrs510\":Rrs510[index],\n",
    "                  \"Rrs560\":Rrs560[index],\n",
    "                  \"Rrs665\":Rrs665[index],\n",
    "        \n",
    "                  \"chla\":chla[index],          \n",
    "                  \"Zeu\":CalZeu.Zeu(Rrs440=Rrs443[index],Rrs490=Rrs490[index],Rrs555=Rrs560[index],option=\"IOP\",tE='1%'),\n",
    "#                   \"Zeu\":CalZeu.Zeu(chla=chla[index],option=\"Chl\")\n",
    "#                   \"sla\":sla[index],\n",
    "#                   \"ugos\":ugos[index],\n",
    "#                   \"vgos\":vgos[index],\n",
    "                  }\n",
    "    z1.append(CalZeu.Zeu(Rrs440=Rrs443[index],Rrs490=Rrs490[index],Rrs555=Rrs560[index],option=\"IOP\",tE='1%'))\n",
    "    z05.append(CalZeu.Zeu(Rrs440=Rrs443[index],Rrs490=Rrs490[index],Rrs555=Rrs560[index],option=\"IOP\",tE='0.5%'))\n",
    "    sate_match_use = {}\n",
    "    for item in sate_match:\n",
    "        sate_match_item = sate_match[item].reshape(sate_match[item].shape[0],-1)\n",
    "        sate_match[item] = np.nanmean(sate_match_item,axis=1)\n",
    "        use = (~np.isnan(sate_match[item])).sum()>=1 # len(sate_match[item])*0.3\n",
    "        sate_match_use[item] = use\n",
    "        \n",
    "#     case1 = (np.nanmean(sate_match[\"Rrs412\"])/np.nanmean(sate_match[\"Rrs443\"]))>=1.0\n",
    "#     for item in sate_match_use:\n",
    "#         sate_match_use[item] = sate_match_use[item]&case1\n",
    "    \n",
    "    # strict case1\n",
    "    RR12 = np.nanmean(sate_match[\"Rrs412\"])/np.nanmean(sate_match[\"Rrs443\"])\n",
    "    RR53 = np.nanmean(sate_match[\"Rrs560\"])/np.nanmean(sate_match[\"Rrs490\"])\n",
    "    RR12_CS1 = 0.9351+0.113/RR53-0.0217/(RR53**2)+0.003/(RR53**3)\n",
    "    Rrs555_CS1 = 0.0006+0.0027*RR53-0.0004*RR53**2-0.0002*RR53**3\n",
    "    gamma,nu = 0.1,0.5\n",
    "    strict_case1 = ((1-gamma)*RR12_CS1<=RR12)&(RR12<=(1+gamma)*RR12_CS1)\n",
    "    strict_case1 = ((1-nu)*Rrs555_CS1<=np.nanmean(sate_match[\"Rrs560\"]))&(np.nanmean(sate_match[\"Rrs560\"])<=(1+nu)*Rrs555_CS1)\n",
    "    for item in sate_match_use:\n",
    "        sate_match_use[item] = sate_match_use[item]&strict_case1\n",
    "     \n",
    "    dataset[mk].add_satellite_match(sate_match)\n",
    "    dataset[mk].add_satellite_match_use(all([sate_match_use[item] for item in sate_match_use]))\n",
    "    "
   ]
  },
  {
   "cell_type": "code",
   "execution_count": 8,
   "id": "7a039de1",
   "metadata": {
    "scrolled": true
   },
   "outputs": [],
   "source": [
    "for mk in dataset:\n",
    "    dataset[mk].revise_use()"
   ]
  },
  {
   "cell_type": "code",
   "execution_count": 9,
   "id": "7e67086d",
   "metadata": {},
   "outputs": [],
   "source": [
    "with open(\"../0 save inner data/dataset_all.pkl\",'wb') as f:\n",
    "    pickle.dump(dataset, f)"
   ]
  },
  {
   "cell_type": "code",
   "execution_count": 10,
   "id": "ccc04819",
   "metadata": {},
   "outputs": [],
   "source": [
    "z001 = np.stack(z1,axis=0).flatten()\n",
    "z0005 = np.stack(z05,axis=0).flatten()\n",
    "\n",
    "nan = np.isnan(z001)|np.isnan(z0005)|(z001>360)\n",
    "z001 = z001[~nan]\n",
    "z0005 = z0005[~nan]\n"
   ]
  },
  {
   "cell_type": "code",
   "execution_count": 11,
   "id": "65f7f511",
   "metadata": {},
   "outputs": [],
   "source": [
    "import scipy.io as scio\n",
    "scio.savemat('z001_z0005.mat',{'z1':z001, 'z05':z0005})"
   ]
  },
  {
   "cell_type": "code",
   "execution_count": null,
   "id": "8504058a",
   "metadata": {},
   "outputs": [],
   "source": []
  }
 ],
 "metadata": {
  "kernelspec": {
   "display_name": "Python 3 (ipykernel)",
   "language": "python",
   "name": "python3"
  },
  "language_info": {
   "codemirror_mode": {
    "name": "ipython",
    "version": 3
   },
   "file_extension": ".py",
   "mimetype": "text/x-python",
   "name": "python",
   "nbconvert_exporter": "python",
   "pygments_lexer": "ipython3",
   "version": "3.9.13"
  }
 },
 "nbformat": 4,
 "nbformat_minor": 5
}
