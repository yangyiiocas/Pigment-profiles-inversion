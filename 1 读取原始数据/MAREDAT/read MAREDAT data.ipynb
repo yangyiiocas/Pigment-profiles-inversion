{
 "cells": [
  {
   "cell_type": "code",
   "execution_count": 1,
   "id": "0379cf41",
   "metadata": {},
   "outputs": [],
   "source": [
    "import numpy as np\n",
    "import os\n",
    "import matplotlib.pyplot as plt\n",
    "\n",
    "import pandas as pd\n",
    "import scipy.io as scio\n",
    "import pickle\n",
    "import datetime"
   ]
  },
  {
   "cell_type": "code",
   "execution_count": 2,
   "id": "40cd75cf",
   "metadata": {},
   "outputs": [
    {
     "name": "stdout",
     "output_type": "stream",
     "text": [
      "['Database_num', 'Cruise_des', 'F_TC', 'F_TA', 'F_TC_F_TA', 'F_Rat', 'F_Cr', 'Total_flags', 'Investigator', 'Datasource', 'Reference', 'Sample_num', 'Exp', 'Cruise', 'Site', 'Cruise_ID', 'Event_num', 'Station', 'CTD', 'Bottle_num', 'Lat', 'Long', 'Month', 'Day', 'Year', 'Depth (m)', 'Press (dbar)', 'Merged_depth (m)', 'Number_of_pigments', 'Total_Chla (ng/L)', 'Total_Acc (ng/L)', 'Total_Chla (mg/m3)', 'Total_Acc (mg/m3)', 'DVChla (ng/L)', 'Chla (ng/L)', 'Chla_ide (ng/L)', 'Chla_allom (ng/L)', 'Chla_prime (ng/L)', 'Chlb (ng/L)', 'DVChl b (ng/L)', 'Chlc (ng/L)', 'Chlc1_Chlc2_Mg_3_8_divinyl_pheoporphyrin_ a5 (ng/L)', 'Chlc1 (ng/L)', 'Chlc1_like (ng/L)', 'Chlc2 (ng/L)', 'Chlc1_Chlc2 (ng/L)', 'Chlc3 (ng/L)', 'MgDVP (ng/L)', '19Hex (ng/L)', '19But (ng/L)', 'Fucox (ng/L)', 'Perid (ng/L)', 'Prasino (ng/L)', 'Allox (ng/L)', 'Lutein (ng/L)', 'Zeax (ng/L)', 'Zea_Lut  (ng/L)', 'Violax (ng/L)', 'Alpha_car (ng/L)', 'Beta_car (ng/L)', 'Gamma_car (ng/L)', 'Epsilon_car (ng/L)', 'Alpha_Beta_car (ng/L)', 'Neox (ng/L)', 'DD (ng/L)', 'DT (ng/L)', 'Viol_Neox (ng/L)', 'Phaeopigments (ng/L)', 'Phide_a (ng/L)', 'Phytin_a (ng/L)']\n",
      "\n",
      " (40536, 70)\n"
     ]
    }
   ],
   "source": [
    "sheet = pd.read_excel(\"../../0 original data/MAREDAT/MAREDAT_pigments_master_file_Updated210313 - edit astype normal.xls\",\n",
    "                      sheet_name=0)\n",
    "print(list(sheet))\n",
    "print(\"\\n\",sheet.shape)"
   ]
  },
  {
   "cell_type": "code",
   "execution_count": 3,
   "id": "8cbd463c",
   "metadata": {},
   "outputs": [
    {
     "name": "stdout",
     "output_type": "stream",
     "text": [
      "70 40535\n"
     ]
    }
   ],
   "source": [
    "\n",
    "# 删除没有如下值的数据行\n",
    "sheet.dropna(inplace=True,subset=['Lat','Long','Year','Month','Day','Merged_depth (m)'])\n",
    "\n",
    "print(len(list(sheet)),len(sheet))"
   ]
  },
  {
   "cell_type": "code",
   "execution_count": 4,
   "id": "49cee910",
   "metadata": {},
   "outputs": [],
   "source": [
    "# location and date&time\n",
    "year = np.array(sheet[\"Year\"]).astype(int)\n",
    "month = np.array(sheet[\"Month\"]).astype(int)\n",
    "day = np.array(sheet[\"Day\"]).astype(int)\n",
    "\n",
    "lats = np.array(sheet[\"Lat\"]).astype(float)\n",
    "lons = np.array(sheet[\"Long\"]).astype(float)\n",
    "depths = np.array(sheet[\"Merged_depth (m)\"]).astype(float)"
   ]
  },
  {
   "cell_type": "code",
   "execution_count": 5,
   "id": "33c17ec9",
   "metadata": {},
   "outputs": [],
   "source": [
    "tchl_a = np.array(sheet[\"Total_Chla (ng/L)\"]).astype(float)\n",
    "tchl_b = np.array(sheet[\"Chlb (ng/L)\"]).astype(float)\n",
    "hex_fuco = np.array(sheet[\"19Hex (ng/L)\"]).astype(float)\n",
    "but_fuco = np.array(sheet[\"19But (ng/L)\"]).astype(float)\n",
    "fuco = np.array(sheet[\"Fucox (ng/L)\"]).astype(float)\n",
    "perid = np.array(sheet[\"Perid (ng/L)\"]).astype(float)\n",
    "allo = np.array(sheet[\"Allox (ng/L)\"]).astype(float)\n",
    "zea = np.array(sheet[\"Zeax (ng/L)\"]).astype(float)\n",
    "\n",
    "\n",
    "dv_chl_a = np.array(sheet[\"DVChla (ng/L)\"]).astype(float)\n",
    "chl_a = np.array(sheet[\"Chla (ng/L)\"]).astype(float)\n",
    "dv_chl_b = np.array(sheet[\"DVChl b (ng/L)\"]).astype(float)\n",
    "chl_c12 = np.array(sheet[\"Chlc1_Chlc2 (ng/L)\"]).astype(float)\n",
    "chl_c3 = np.array(sheet[\"Chlc3 (ng/L)\"]).astype(float)\n",
    "pras = np.array(sheet[\"Prasino (ng/L)\"]).astype(float)\n",
    "lut = np.array(sheet[\"Lutein (ng/L)\"]).astype(float)\n",
    "viola = np.array(sheet[\"Violax (ng/L)\"]).astype(float)\n",
    "neo = np.array(sheet[\"Neox (ng/L)\"]).astype(float)\n",
    "phytin_a = np.array(sheet[\"Phytin_a (ng/L)\"]).astype(float)\n",
    "diadino = np.array(sheet[\"DD (ng/L)\"]).astype(float)\n",
    "diato = np.array(sheet[\"DT (ng/L)\"]).astype(float)\n",
    "\n",
    "# save data\n",
    "data = {'tchl_a':tchl_a,\n",
    "        'tchl_b':tchl_b,\n",
    "        'hex_fuco':hex_fuco,\n",
    "        'but_fuco':but_fuco,\n",
    "        'fuco':fuco,\n",
    "        'perid':perid,\n",
    "        'allo':allo,\n",
    "        'zea':zea,\n",
    "\n",
    "        'dv_chl_a':dv_chl_a,\n",
    "        'chl_a':chl_a,\n",
    "        'dv_chl_b':dv_chl_b,\n",
    "        'chl_c12':chl_c12,\n",
    "        'chl_c3':chl_c3,\n",
    "        'pras':pras,\n",
    "        'lut':lut,\n",
    "        'viola':viola,\n",
    "        'neo':neo,\n",
    "        'phytin_a':phytin_a,\n",
    "        'diadino':diadino,\n",
    "        'diato':diato}\n",
    "\n",
    "for pigment in data: data[pigment] = data[pigment]/1000."
   ]
  },
  {
   "cell_type": "code",
   "execution_count": 6,
   "id": "f25fb802",
   "metadata": {
    "scrolled": true
   },
   "outputs": [],
   "source": [
    "dates = []\n",
    "for i in range(len(year)):\n",
    "    dates.append(datetime.datetime(year=year[i],month=month[i],day=day[i]))"
   ]
  },
  {
   "cell_type": "code",
   "execution_count": 7,
   "id": "47d0e4b6",
   "metadata": {},
   "outputs": [],
   "source": [
    "with open(\"../../0 save inner data/1 read MAREDAT.pkl\", 'wb') as f:\n",
    "    pickle.dump([dates, lons, lats, depths, data], f)"
   ]
  },
  {
   "cell_type": "code",
   "execution_count": 8,
   "id": "f265aec5",
   "metadata": {},
   "outputs": [],
   "source": [
    "with open(\"../../0 save data/read MAREDAT.txt\",'w') as f:\n",
    "    write_str = \"date time\"+\"\\t\"+\"lat\"+\"\\t\"+\"lon\"+\"\\t\"+\"depth\"+\"\\t\"\n",
    "    for var in data:write_str = write_str+var+\"\\t\"\n",
    "    f.write(write_str+\"\\n\")\n",
    "    for i in range(len(lats)):\n",
    "        write_str = str(dates[i])+\"\\t\"+str(lats[i])+\"\\t\"+str(lons[i])+\"\\t\"+str(depths[i])+\"\\t\"\n",
    "        for var in data: write_str = (write_str+str(data[var][i])+\"\\t\") if data[var][i]==data[var][i] else (write_str+str(-999)+\"\\t\")\n",
    "        f.write(write_str+\"\\n\")"
   ]
  },
  {
   "cell_type": "code",
   "execution_count": 9,
   "id": "094474c4",
   "metadata": {},
   "outputs": [
    {
     "data": {
      "text/plain": [
       "(0.0, 1250.0)"
      ]
     },
     "execution_count": 9,
     "metadata": {},
     "output_type": "execute_result"
    },
    {
     "data": {
      "image/png": "[encoded data removed]",
      "text/plain": [
       "<Figure size 500x200 with 1 Axes>"
      ]
     },
     "metadata": {},
     "output_type": "display_data"
    }
   ],
   "source": [
    "import matplotlib.pyplot as plt\n",
    "dep = np.array(depths)\n",
    "count = []\n",
    "for i in range(300):\n",
    "    count.append((dep<=i).sum())\n",
    "count = np.array(count)\n",
    "\n",
    "plt.figure(figsize=(5,2))\n",
    "plt.bar(range(1,300),count[1:]-count[:-1])\n",
    "plt.xlabel(\"depth\")\n",
    "plt.ylabel(\"count\")\n",
    "plt.ylim([0,1250])"
   ]
  }
 ],
 "metadata": {
  "kernelspec": {
   "display_name": "Python 3 (ipykernel)",
   "language": "python",
   "name": "python3"
  },
  "language_info": {
   "codemirror_mode": {
    "name": "ipython",
    "version": 3
   },
   "file_extension": ".py",
   "mimetype": "text/x-python",
   "name": "python",
   "nbconvert_exporter": "python",
   "pygments_lexer": "ipython3",
   "version": "3.9.13"
  }
 },
 "nbformat": 4,
 "nbformat_minor": 5
}
