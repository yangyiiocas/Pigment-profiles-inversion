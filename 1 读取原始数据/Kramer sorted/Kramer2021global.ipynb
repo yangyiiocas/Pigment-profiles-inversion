{
 "cells": [
  {
   "cell_type": "code",
   "execution_count": 1,
   "id": "dafc3356",
   "metadata": {},
   "outputs": [],
   "source": [
    "import numpy as np\n",
    "import os\n",
    "import matplotlib.pyplot as plt\n",
    "\n",
    "import pandas as pd\n",
    "import scipy.io as scio\n",
    "import pickle\n",
    "import datetime"
   ]
  },
  {
   "cell_type": "code",
   "execution_count": 2,
   "id": "ebb8ea4a",
   "metadata": {},
   "outputs": [],
   "source": [
    "path_file = \"../../0 original data/Kramer sorted/Kramer-Siegel_2021_V2_HPLC_glob_pigm_comp.tab\"\n",
    "with open(path_file,'r',encoding=\"utf-8\") as f:\n",
    "    read_content = f.read()"
   ]
  },
  {
   "cell_type": "code",
   "execution_count": 3,
   "id": "cece8c84",
   "metadata": {
    "scrolled": true
   },
   "outputs": [
    {
     "name": "stdout",
     "output_type": "stream",
     "text": [
      "可用数据量 4480\n"
     ]
    }
   ],
   "source": [
    "read_content = read_content.split(\"*/\\n\")[1].split(\"\\n\")[:-1]\n",
    "print(\"可用数据量\",len(read_content)-1)"
   ]
  },
  {
   "cell_type": "code",
   "execution_count": 4,
   "id": "38fd1646",
   "metadata": {},
   "outputs": [
    {
     "name": "stdout",
     "output_type": "stream",
     "text": [
      "['Event', 'Campaign', 'Expedition', 'Name (of PI)', 'Persistent Identifier (data source)', 'Latitude', 'Longitude', 'Date/Time', 'Depth water [m] (max)', 'Depth water [m] (max)', 'Temp [°C]', 'Sal (PSU)', 'Bathy depth [m]', '[NO3]- [µmol/l]', 'Chl a [µg/l]', 'Chl b [µg/l]', 'Chl c [µg/l]', 'a+b-Car [µg/l]', 'But-fuco [µg/l]', 'Hex-fuco [µg/l]', 'Allo [µg/l]', 'Diadino [µg/l]', 'Diato [µg/l]', 'Fuco [µg/l]', 'Perid [µg/l]', 'Zea [µg/l]', 'MV chl a [µg/l]', 'DV chl a [µg/l]', 'Chlide [µg/l]', 'MV chl b [µg/l]', 'DV chl b [µg/l]', 'Chl c1+c2 [µg/l]', 'Chl c3 [µg/l]', 'Lut [µg/l]', 'Neo [µg/l]', 'Viola [µg/l]', 'Phaeophytin [µg/l]', 'Phaeopho a [µg/l]', 'Pras [µg/l]']\n"
     ]
    }
   ],
   "source": [
    "field = read_content[0].split(\"\\t\")\n",
    "print(field)"
   ]
  },
  {
   "cell_type": "code",
   "execution_count": 5,
   "id": "6263b988",
   "metadata": {},
   "outputs": [
    {
     "name": "stdout",
     "output_type": "stream",
     "text": [
      "correct, field[8] should be Depth water [m] (min)\n"
     ]
    }
   ],
   "source": [
    "print(\"correct, field[8] should be Depth water [m] (min)\")\n",
    "field[8] = \"Depth water [m] (min)\""
   ]
  },
  {
   "cell_type": "code",
   "execution_count": 6,
   "id": "92202230",
   "metadata": {
    "scrolled": true
   },
   "outputs": [],
   "source": [
    "read_field = {item:[] for item in field}\n",
    "\n",
    "for item in read_content[1:]:\n",
    "    item = item.split(\"\\t\")\n",
    "    for i in range(len(item)):\n",
    "        read_field[field[i]].append(item[i])\n",
    "\n",
    "lats = np.array(read_field[\"Latitude\"]).astype(float)\n",
    "lons = np.array(read_field[\"Longitude\"]).astype(float)\n",
    "depths = (np.array(read_field[\"Depth water [m] (min)\"]).astype(float)+np.array(read_field[\"Depth water [m] (max)\"]).astype(float))/2.\n",
    "dates = [datetime.datetime.strptime(dt,'%Y-%m-%dT%H:%M') for dt in read_field[\"Date/Time\"]]\n",
    "\n",
    "\n",
    "\n",
    "tchl_b = np.array(read_field[\"Chl b [µg/l]\"]).astype(float)\n",
    "hex_fuco = np.array(read_field[\"Hex-fuco [µg/l]\"]).astype(float)\n",
    "but_fuco = np.array(read_field[\"But-fuco [µg/l]\"]).astype(float)\n",
    "fuco = np.array(read_field[\"Fuco [µg/l]\"]).astype(float)\n",
    "perid = np.array(read_field[\"Perid [µg/l]\"]).astype(float)\n",
    "allo = np.array(read_field[\"Allo [µg/l]\"]).astype(float)\n",
    "zea = np.array(read_field[\"Zea [µg/l]\"]).astype(float)\n",
    "\n",
    "\n",
    "dv_chl_a = np.array(read_field[\"DV chl a [µg/l]\"]).astype(float)\n",
    "tchl_a = np.array(read_field[\"Chl a [µg/l]\"]).astype(float)\n",
    "\n",
    "dv_chl_b = np.array(read_field[\"DV chl b [µg/l]\"]).astype(float)\n",
    "chl_c12 = np.array(read_field[\"Chl c1+c2 [µg/l]\"]).astype(float)\n",
    "chl_c3 = np.array(read_field[\"Chl c3 [µg/l]\"]).astype(float)\n",
    "pras = np.array(read_field[\"Pras [µg/l]\"]).astype(float)\n",
    "lut = np.array(read_field[\"Lut [µg/l]\"]).astype(float)\n",
    "viola = np.array(read_field[\"Viola [µg/l]\"]).astype(float)\n",
    "neo = np.array(read_field[\"Neo [µg/l]\"]).astype(float)\n",
    "phytin_a = np.array(read_field[\"Phaeophytin [µg/l]\"]).astype(float)\n",
    "diadino = np.array(read_field[\"Diadino [µg/l]\"]).astype(float)\n",
    "diato = np.array(read_field[\"Diato [µg/l]\"]).astype(float)\n",
    "\n",
    "# save data\n",
    "data = {'tchl_a':tchl_a,\n",
    "        'tchl_b':tchl_b,\n",
    "        'hex_fuco':hex_fuco,\n",
    "        'but_fuco':but_fuco,\n",
    "        'fuco':fuco,\n",
    "        'perid':perid,\n",
    "        'allo':allo,\n",
    "        'zea':zea,\n",
    "\n",
    "        'dv_chl_a':dv_chl_a,\n",
    "        'dv_chl_b':dv_chl_b,\n",
    "        'chl_c12':chl_c12,\n",
    "        'chl_c3':chl_c3,\n",
    "        'pras':pras,\n",
    "        'lut':lut,\n",
    "        'viola':viola,\n",
    "        'neo':neo,\n",
    "        'phytin_a':phytin_a,\n",
    "        'diadino':diadino,\n",
    "        'diato':diato}\n",
    "\n",
    "for var in data: data[var] = data[var]"
   ]
  },
  {
   "cell_type": "code",
   "execution_count": 7,
   "id": "c07c2089",
   "metadata": {},
   "outputs": [],
   "source": [
    "with open(\"../../0 save inner data/1 read Kramer sorted.pkl\", 'wb') as f:\n",
    "    pickle.dump([dates, lons, lats, depths, data], f)"
   ]
  },
  {
   "cell_type": "code",
   "execution_count": 8,
   "id": "6d081ded",
   "metadata": {
    "scrolled": true
   },
   "outputs": [],
   "source": [
    "with open(\"../../0 save data/read Kramer sorted.txt\",'w') as f:\n",
    "    write_str = \"date time\"+\"\\t\"+\"lat\"+\"\\t\"+\"lon\"+\"\\t\"+\"depth\"+\"\\t\"\n",
    "    for var in data:write_str = write_str+var+\"\\t\"\n",
    "    f.write(write_str+\"\\n\")\n",
    "    for i in range(len(lats)):\n",
    "        write_str = str(dates[i])+\"\\t\"+str(lats[i])+\"\\t\"+str(lons[i])+\"\\t\"+str(depths[i])+\"\\t\"\n",
    "        for var in data: write_str = (write_str+str(data[var][i])+\"\\t\") if data[var][i]==data[var][i] else (write_str+str(-999)+\"\\t\")\n",
    "        f.write(write_str+\"\\n\")"
   ]
  }
 ],
 "metadata": {
  "kernelspec": {
   "display_name": "Python 3 (ipykernel)",
   "language": "python",
   "name": "python3"
  },
  "language_info": {
   "codemirror_mode": {
    "name": "ipython",
    "version": 3
   },
   "file_extension": ".py",
   "mimetype": "text/x-python",
   "name": "python",
   "nbconvert_exporter": "python",
   "pygments_lexer": "ipython3",
   "version": "3.9.13"
  }
 },
 "nbformat": 4,
 "nbformat_minor": 5
}
