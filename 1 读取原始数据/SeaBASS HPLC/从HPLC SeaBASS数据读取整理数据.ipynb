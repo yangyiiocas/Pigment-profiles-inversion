{
 "cells": [
  {
   "cell_type": "code",
   "execution_count": 1,
   "id": "9fc12367",
   "metadata": {},
   "outputs": [],
   "source": [
    "import os\n",
    "import re\n",
    "import numpy as np\n",
    "import h5py\n",
    "import datetime\n",
    "import pickle\n",
    "\n",
    "import SB_support\n",
    "import process_files\n",
    "import process_others\n",
    "import var_use"
   ]
  },
  {
   "cell_type": "code",
   "execution_count": 2,
   "id": "99e73aac",
   "metadata": {},
   "outputs": [
    {
     "name": "stdout",
     "output_type": "stream",
     "text": [
      "1393\n"
     ]
    }
   ],
   "source": [
    "path = \"../../0 original data/SeaBASS HPLC/\"\n",
    "files = os.listdir(path)\n",
    "print(len(files))"
   ]
  },
  {
   "cell_type": "code",
   "execution_count": 3,
   "id": "7868d88f",
   "metadata": {
    "scrolled": true
   },
   "outputs": [
    {
     "name": "stdout",
     "output_type": "stream",
     "text": [
      "6e07c49506_CFL_2008-9_HPLC.sb\n",
      "total availiable data: 41312\n"
     ]
    }
   ],
   "source": [
    "# 利用read_file.readSB读取数据，之后把数据交给read_content整理和提取\n",
    "# 文件保存到 txts 列表\n",
    "\n",
    "txts = []\n",
    "units = []\n",
    "count1, count2 = 0, 0 # 分别为总数据条数，提取的数据条数\n",
    "for file in files:\n",
    "    # 读取并保存\n",
    "    file_obj = SB_support.readSB(path+file,no_warn=True)\n",
    "    txt = process_files.read_content(file_obj)\n",
    "\n",
    "    txts.append(txt)\n",
    "    length = txt.length\n",
    "    count1 +=length\n",
    "    unit = (txt.variables[\"fuco\"][1]) if \"fuco\" in txt.variables else txt.variables[\"zea\"][1]\n",
    "    if \"fuco\" not in [item.lower() for item in txt.data]: print(file)\n",
    "    if unit not in units: units.append(unit)\n",
    "print(\"total availiable data: {:d}\".format(count1))"
   ]
  },
  {
   "cell_type": "code",
   "execution_count": 4,
   "id": "85cd1071",
   "metadata": {},
   "outputs": [],
   "source": [
    "# os.remove(\"../../0 original data/SeaBASS HPLC/desktop.ini\")"
   ]
  },
  {
   "cell_type": "code",
   "execution_count": 5,
   "id": "6f08e7a7",
   "metadata": {
    "scrolled": true
   },
   "outputs": [],
   "source": [
    "lats,lons,depths,dates = [],[],[],[]\n",
    "data = {var:np.array([]) for var in list(var_use.var_use_names)}\n",
    "\n",
    "files = []\n",
    "for count,txt in enumerate(txts):\n",
    "    # 记录文件名\n",
    "    for i in range(txt.length): files.append(txt.filename.split(\"/\")[-1])\n",
    "    # 时间\n",
    "    if txt.time is not None:\n",
    "        for t in txt.time: dates.append(t)\n",
    "    else:\n",
    "        for t in process_others.revise_time(txt,var_use.var_time): dates.append(t)\n",
    "    # 经纬度\n",
    "    lats = np.append(lats, process_others.revise_lat(txt,var_use.var_lat))\n",
    "    lons = np.append(lons, process_others.revise_lon(txt,var_use.var_lon))\n",
    "    # 深度\n",
    "    depths = np.append(depths, process_others.revise_depth(txt,var_use.var_depth))  \n",
    "        \n",
    "    for var in var_use.var_use_names:\n",
    "        if txt.is_exist(var_use.var_use_names[var]):\n",
    "            tmp = np.double(txt.get_var(var_use.var_use_names[var]))\n",
    "            tmp = np.sum(tmp,axis=0)\n",
    "            data[var] = np.append( data[var], tmp )\n",
    "        else:\n",
    "            data[var] = np.append( data[var], np.nan*np.zeros(txt.length) )\n",
    "    \n",
    "lons, lats, depths = np.array(lons), np.array(lats), np.array(depths)"
   ]
  },
  {
   "cell_type": "code",
   "execution_count": 6,
   "id": "139656de",
   "metadata": {},
   "outputs": [
    {
     "name": "stdout",
     "output_type": "stream",
     "text": [
      "fuco (41312,) 39175\tperid (41312,) 36606\thex_fuco (41312,) 37597\tbut_fuco (41312,) 36109\tallo (41312,) 35769\ttchl_b (41312,) 22567\tzea (41312,) 36986\ttchl_a (41312,) 31082\tdiato (41312,) 32409\tdiadino (41312,) 37029\tmv_chl_a (41312,) 16701\tmv_chl_b (41312,) 13884\tdv_chl_a (41312,) 23253\tdv_chl_b (41312,) 16899\tchl_c12 (41312,) 31955\tchl_c3 (41312,) 32113\tneo (41312,) 23570\tviola (41312,) 26029\tlut (41312,) 25864\tpras (41312,) 25978\tchl_a (41312,) 19788\tchlide_a (41312,) 30635\tgyro (41312,) 9962\tphytin_a (41312,) 24041\tdates 41312 lon 41312 lat 41312 depth 41312\n",
      "\n",
      " 提取所有数据:41312\n"
     ]
    }
   ],
   "source": [
    "for var in list(data): print(var,data[var].shape,sum(~np.isnan(data[var])),end=\"\\t\")\n",
    "print(\"dates\", len(dates),\"lon\",len(lons),\"lat\",len(lats),\"depth\",len(depths))\n",
    "\n",
    "print(\"\\n 提取所有数据:{:}\".format( len(dates)) )"
   ]
  },
  {
   "cell_type": "code",
   "execution_count": 7,
   "id": "33c61418",
   "metadata": {},
   "outputs": [],
   "source": [
    "with open(\"../../0 save inner data/1 read SeaBASS HPLC.pkl\", 'wb') as f:\n",
    "    pickle.dump([dates, lons, lats, depths, data], f)\n"
   ]
  },
  {
   "cell_type": "code",
   "execution_count": 8,
   "id": "b28cbee2",
   "metadata": {},
   "outputs": [],
   "source": [
    "with open(\"../../0 save data/read SeaBASS HPLC.txt\",'w') as f:\n",
    "    write_str = \"date time\"+\"\\t\"+\"lat\"+\"\\t\"+\"lon\"+\"\\t\"+\"depth\"+\"\\t\"\n",
    "    for var in data:write_str = write_str+var+\"\\t\"\n",
    "    f.write(write_str+\"\\n\")\n",
    "    for i in range(len(lats)):\n",
    "        write_str = str(dates[i])+\"\\t\"+str(lats[i])+\"\\t\"+str(lons[i])+\"\\t\"+str(depths[i])+\"\\t\"\n",
    "        for var in data: write_str = (write_str+str(data[var][i])+\"\\t\") if data[var][i]==data[var][i] else (write_str+str(-999)+\"\\t\")\n",
    "        f.write(write_str+\"\\n\")"
   ]
  },
  {
   "cell_type": "code",
   "execution_count": 9,
   "id": "cebaa2ab",
   "metadata": {},
   "outputs": [],
   "source": [
    "for var in data:\n",
    "    with open(f\"../../fornext/HPLC[{var}]_(SeaBASS).txt\",'w') as f:\n",
    "        f.write(\"date time\"+\"\\t\"+\"lat\"+\"\\t\"+\"lon\"+\"\\t\"+\"depth (m)\"+\"\\t\"+var+\" (mg/m^3)\\n\")\n",
    "        for i in range(len(lats)):\n",
    "            if (data[var][i]>0.0005):\n",
    "                write_str = f\"{dates[i]}\\t{lats[i]:.4f}\\t{lons[i]:.4f}\\t{depths[i]:.1f}\\t{data[var][i]:.4f}\"\n",
    "                f.write(write_str+\"\\n\")"
   ]
  },
  {
   "cell_type": "code",
   "execution_count": 10,
   "id": "af0b11fb",
   "metadata": {},
   "outputs": [
    {
     "data": {
      "text/plain": [
       "['fuco',\n",
       " 'perid',\n",
       " 'hex_fuco',\n",
       " 'but_fuco',\n",
       " 'allo',\n",
       " 'tchl_b',\n",
       " 'zea',\n",
       " 'tchl_a',\n",
       " 'diato',\n",
       " 'diadino',\n",
       " 'mv_chl_a',\n",
       " 'mv_chl_b',\n",
       " 'dv_chl_a',\n",
       " 'dv_chl_b',\n",
       " 'chl_c12',\n",
       " 'chl_c3',\n",
       " 'neo',\n",
       " 'viola',\n",
       " 'lut',\n",
       " 'pras',\n",
       " 'chl_a',\n",
       " 'chlide_a',\n",
       " 'gyro',\n",
       " 'phytin_a']"
      ]
     },
     "execution_count": 10,
     "metadata": {},
     "output_type": "execute_result"
    }
   ],
   "source": [
    "list(data)"
   ]
  },
  {
   "cell_type": "code",
   "execution_count": 11,
   "id": "7620f295",
   "metadata": {},
   "outputs": [
    {
     "data": {
      "text/plain": [
       "Text(0, 0.5, 'count')"
      ]
     },
     "execution_count": 11,
     "metadata": {},
     "output_type": "execute_result"
    },
    {
     "data": {
      "image/png": "[encoded data removed]",
      "text/plain": [
       "<Figure size 500x200 with 1 Axes>"
      ]
     },
     "metadata": {},
     "output_type": "display_data"
    }
   ],
   "source": [
    "import matplotlib.pyplot as plt\n",
    "dep = np.array(depths)\n",
    "count = []\n",
    "for i in range(300):\n",
    "    count.append((dep<=i).sum())\n",
    "count = np.array(count)\n",
    "\n",
    "plt.figure(figsize=(5,2))\n",
    "plt.bar(range(1,300),count[1:]-count[:-1])\n",
    "plt.xlabel(\"depth\")\n",
    "plt.ylabel(\"count\")"
   ]
  }
 ],
 "metadata": {
  "kernelspec": {
   "display_name": "Python 3 (ipykernel)",
   "language": "python",
   "name": "python3"
  },
  "language_info": {
   "codemirror_mode": {
    "name": "ipython",
    "version": 3
   },
   "file_extension": ".py",
   "mimetype": "text/x-python",
   "name": "python",
   "nbconvert_exporter": "python",
   "pygments_lexer": "ipython3",
   "version": "3.9.13"
  }
 },
 "nbformat": 4,
 "nbformat_minor": 5
}
