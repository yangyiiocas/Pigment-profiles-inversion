{
 "cells": [
  {
   "cell_type": "code",
   "execution_count": 1,
   "id": "28137894",
   "metadata": {},
   "outputs": [],
   "source": [
    "import pickle\n",
    "import datetime\n",
    "import numpy as np\n",
    "import os\n",
    "import GetData as GD"
   ]
  },
  {
   "cell_type": "markdown",
   "id": "c5d41b1e",
   "metadata": {},
   "source": [
    "## ssh"
   ]
  },
  {
   "cell_type": "code",
   "execution_count": 2,
   "id": "a07b997a",
   "metadata": {},
   "outputs": [
    {
     "name": "stdout",
     "output_type": "stream",
     "text": [
      "use length:86327\n",
      "all data file:10684\n",
      "read inforamtion, number:10684, percentage process:100.0000%, all data file:10684\n",
      " read inforamtion done!\n",
      "write data inforamtion,  number: 1294905,  percentage: 100.0000%\n",
      " write data inforamtion done!\n"
     ]
    }
   ],
   "source": [
    "# zos\n",
    "variables_param = {\n",
    "    \"datafilepath\":\":/GLORYS12V1/\",\n",
    "    \"var\":\"zos\",\n",
    "    \"lon_var\":\"longitude\",\n",
    "    \"lat_var\":\"latitude\"\n",
    "}\n",
    "\n",
    "def FilePathNameFind_Fun(path,y,m,d,yd):\n",
    "    if str(y) in [\"1996\",\"1997\",\"1998\",\"1999\",\"2000\"]:\n",
    "        disk = \"G\"\n",
    "    elif str(y) in [\"2001\",\"2002\",\"2003\",\"2004\",\"2005\",\"2006\",\"2007\",\"2008\",\"2009\",\"2010\"]:\n",
    "        disk = \"H\"\n",
    "    elif str(y) in [\"2011\",\"2012\",\"2013\",\"2014\",\"2015\",\"2016\",\"2017\",\"2018\",\"2019\",\"2020\"]:\n",
    "        disk = \"F\"\n",
    "    else:\n",
    "        return None\n",
    "    \n",
    "    path = disk + path\n",
    "    filename = None\n",
    "    \n",
    "    wpath = path + \"{:0>4d}/{:0>2d}/\".format(y,m)\n",
    "    for file in os.listdir(wpath):\n",
    "        if \"mercatorglorys12v1_gl12_mean_{:0>4d}{:0>2d}{:0>2d}\".format(y,m,d) in file:\n",
    "            filename = wpath + file\n",
    "    return filename\n",
    "    \n",
    "with open(\"../0 save inner data/match data.pkl\",'rb') as f:\n",
    "    dates,lon,lat = pickle.load(f)\n",
    "\n",
    "\n",
    "data = GD.read_data(dates,\n",
    "                    lon,\n",
    "                    lat,\n",
    "                    window_t=15,\n",
    "                    window_s=3,\n",
    "                    variables_param=variables_param,\n",
    "                    FilePathNameFind_Fun=lambda x1, x2, x3, x4, x5: '/')\n",
    "# with open(\"I:/satellite match data/ssh.pkl\",'wb') as f:\n",
    "#     pickle.dump(data, f)"
   ]
  },
  {
   "cell_type": "markdown",
   "id": "359556f8",
   "metadata": {},
   "source": [
    "## mld"
   ]
  },
  {
   "cell_type": "code",
   "execution_count": 3,
   "id": "8493a1a4",
   "metadata": {},
   "outputs": [
    {
     "name": "stdout",
     "output_type": "stream",
     "text": [
      "use length:86327\n",
      "all data file:10684\n",
      "read inforamtion, number:10684, percentage process:100.0000%, all data file:10684\n",
      " read inforamtion done!\n",
      "write data inforamtion,  number: 1294905,  percentage: 100.0000%\n",
      " write data inforamtion done!\n"
     ]
    }
   ],
   "source": [
    "# 412 443 490 510 560 665\n",
    "variables_param = {\n",
    "    \"datafilepath\":\":/GLORYS12V1/\",\n",
    "    \"var\":\"mlotst\",\n",
    "    \"lon_var\":\"longitude\",\n",
    "    \"lat_var\":\"latitude\"\n",
    "}\n",
    "\n",
    "def FilePathNameFind_Fun(path,y,m,d,yd):\n",
    "    if str(y) in [\"1996\",\"1997\",\"1998\",\"1999\",\"2000\"]:\n",
    "        disk = \"G\"\n",
    "    elif str(y) in [\"2001\",\"2002\",\"2003\",\"2004\",\"2005\",\"2006\",\"2007\",\"2008\",\"2009\",\"2010\"]:\n",
    "        disk = \"H\"\n",
    "    elif str(y) in [\"2011\",\"2012\",\"2013\",\"2014\",\"2015\",\"2016\",\"2017\",\"2018\",\"2019\",\"2020\"]:\n",
    "        disk = \"F\"\n",
    "    else:\n",
    "        return None\n",
    "    \n",
    "    path = disk + path\n",
    "    filename = None\n",
    "    \n",
    "    wpath = path + \"{:0>4d}/{:0>2d}/\".format(y,m)\n",
    "    for file in os.listdir(wpath):\n",
    "        if \"mercatorglorys12v1_gl12_mean_{:0>4d}{:0>2d}{:0>2d}\".format(y,m,d) in file:\n",
    "            filename = wpath + file\n",
    "    return filename\n",
    "    \n",
    "with open(\"../0 save inner data/match data.pkl\",'rb') as f:\n",
    "    dates,lon,lat = pickle.load(f)\n",
    "data = GD.read_data(dates,\n",
    "                    lon,\n",
    "                    lat,\n",
    "                    window_t=15,\n",
    "                    window_s=3,\n",
    "                    variables_param=variables_param,\n",
    "                    FilePathNameFind_Fun=lambda x1, x2, x3, x4, x5: '/')\n",
    "# with open(\"I:/satellite match data/mld.pkl\",'wb') as f:\n",
    "#     pickle.dump(data, f)"
   ]
  },
  {
   "cell_type": "markdown",
   "id": "9699206f",
   "metadata": {},
   "source": [
    "### Rrs"
   ]
  },
  {
   "cell_type": "code",
   "execution_count": 4,
   "id": "5b8f62db",
   "metadata": {},
   "outputs": [
    {
     "name": "stdout",
     "output_type": "stream",
     "text": [
      "use length:86327\n",
      "all data file:10684\n",
      "read inforamtion, number:10684, percentage process:100.0000%, all data file:10684\n",
      " read inforamtion done!\n",
      "write data inforamtion,  number: 1294905,  percentage: 100.0000%\n",
      " write data inforamtion done!\n"
     ]
    }
   ],
   "source": [
    "# 412 443 490 510 560 665\n",
    "variables_param = {\n",
    "    \"datafilepath\":\"F:/occci-v5.0/Rrs/\",\n",
    "    \"var\":\"Rrs_412\",\n",
    "    \"lon_var\":\"lon\",\n",
    "    \"lat_var\":\"lat\"\n",
    "}\n",
    "\n",
    "def FilePathNameFind_Fun(path,y,m,d,yd):\n",
    "    filename = path+\"{:0>4d}/ESACCI-OC-L3S-RRS-MERGED-1D_DAILY_4km_GEO_PML_RRS-{:0>4d}{:0>2d}{:0>2d}-fv5.0.nc\".format(y,y,m,d)\n",
    "    \n",
    "    return filename if os.path.exists(filename) else None\n",
    "    \n",
    "with open(\"../0 save inner data/match data.pkl\",'rb') as f:\n",
    "    dates,lon,lat = pickle.load(f)\n",
    "\n",
    "\n",
    "data = GD.read_data(dates,\n",
    "                    lon,\n",
    "                    lat,\n",
    "                    window_t=15,\n",
    "                    window_s=3,\n",
    "                    variables_param=variables_param,\n",
    "                    FilePathNameFind_Fun=lambda x1, x2, x3, x4, x5: '/')\n",
    "# with open(\"I:/satellite match data/Rrs412.pkl\",'wb') as f:\n",
    "#     pickle.dump(data, f)"
   ]
  },
  {
   "cell_type": "code",
   "execution_count": 5,
   "id": "5711a454",
   "metadata": {},
   "outputs": [
    {
     "name": "stdout",
     "output_type": "stream",
     "text": [
      "use length:86327\n",
      "all data file:10684\n",
      "read inforamtion, number:10684, percentage process:100.0000%, all data file:10684\n",
      " read inforamtion done!\n",
      "write data inforamtion,  number: 1294905,  percentage: 100.0000%\n",
      " write data inforamtion done!\n"
     ]
    }
   ],
   "source": [
    "# 412 443 490 510 560 665\n",
    "variables_param = {\n",
    "    \"datafilepath\":\"F:/occci-v5.0/Rrs/\",\n",
    "    \"var\":\"Rrs_443\",\n",
    "    \"lon_var\":\"lon\",\n",
    "    \"lat_var\":\"lat\"\n",
    "}\n",
    "\n",
    "def FilePathNameFind_Fun(path,y,m,d,yd):\n",
    "    filename = path+\"{:0>4d}/ESACCI-OC-L3S-RRS-MERGED-1D_DAILY_4km_GEO_PML_RRS-{:0>4d}{:0>2d}{:0>2d}-fv5.0.nc\".format(y,y,m,d)\n",
    "    \n",
    "    return filename if os.path.exists(filename) else None\n",
    "    \n",
    "with open(\"../0 save inner data/match data.pkl\",'rb') as f:\n",
    "    dates,lon,lat = pickle.load(f)\n",
    "\n",
    "data = GD.read_data(dates,\n",
    "                    lon,\n",
    "                    lat,\n",
    "                    window_t=15,\n",
    "                    window_s=3,\n",
    "                    variables_param=variables_param,\n",
    "                    FilePathNameFind_Fun=lambda x1, x2, x3, x4, x5: '/')\n",
    "# with open(\"I:/satellite match data/Rrs443.pkl\",'wb') as f:\n",
    "#     pickle.dump(data, f)"
   ]
  },
  {
   "cell_type": "code",
   "execution_count": 6,
   "id": "5f543d8a",
   "metadata": {},
   "outputs": [
    {
     "name": "stdout",
     "output_type": "stream",
     "text": [
      "use length:86327\n",
      "all data file:10684\n",
      "read inforamtion, number:10684, percentage process:100.0000%, all data file:10684\n",
      " read inforamtion done!\n",
      "write data inforamtion,  number: 1294905,  percentage: 100.0000%\n",
      " write data inforamtion done!\n"
     ]
    }
   ],
   "source": [
    "# 412 443 490 510 560 665\n",
    "variables_param = {\n",
    "    \"datafilepath\":\"F:/occci-v5.0/Rrs/\",\n",
    "    \"var\":\"Rrs_490\",\n",
    "    \"lon_var\":\"lon\",\n",
    "    \"lat_var\":\"lat\"\n",
    "}\n",
    "\n",
    "def FilePathNameFind_Fun(path,y,m,d,yd):\n",
    "    filename = path+\"{:0>4d}/ESACCI-OC-L3S-RRS-MERGED-1D_DAILY_4km_GEO_PML_RRS-{:0>4d}{:0>2d}{:0>2d}-fv5.0.nc\".format(y,y,m,d)\n",
    "    \n",
    "    return filename if os.path.exists(filename) else None\n",
    "    \n",
    "with open(\"../0 save inner data/match data.pkl\",'rb') as f:\n",
    "    dates,lon,lat = pickle.load(f)\n",
    "\n",
    "\n",
    "data = GD.read_data(dates,\n",
    "                    lon,\n",
    "                    lat,\n",
    "                    window_t=15,\n",
    "                    window_s=3,\n",
    "                    variables_param=variables_param,\n",
    "                    FilePathNameFind_Fun=lambda x1, x2, x3, x4, x5: '/')\n",
    "# with open(\"I:/satellite match data/Rrs490.pkl\",'wb') as f:\n",
    "#     pickle.dump(data, f)"
   ]
  },
  {
   "cell_type": "code",
   "execution_count": 7,
   "id": "ca809409",
   "metadata": {},
   "outputs": [
    {
     "name": "stdout",
     "output_type": "stream",
     "text": [
      "use length:86327\n",
      "all data file:10684\n",
      "read inforamtion, number:10684, percentage process:100.0000%, all data file:10684\n",
      " read inforamtion done!\n",
      "write data inforamtion,  number: 1294905,  percentage: 100.0000%\n",
      " write data inforamtion done!\n"
     ]
    }
   ],
   "source": [
    "# 412 443 490 510 560 665\n",
    "variables_param = {\n",
    "    \"datafilepath\":\"F:/occci-v5.0/Rrs/\",\n",
    "    \"var\":\"Rrs_510\",\n",
    "    \"lon_var\":\"lon\",\n",
    "    \"lat_var\":\"lat\"\n",
    "}\n",
    "\n",
    "def FilePathNameFind_Fun(path,y,m,d,yd):\n",
    "    filename = path+\"{:0>4d}/ESACCI-OC-L3S-RRS-MERGED-1D_DAILY_4km_GEO_PML_RRS-{:0>4d}{:0>2d}{:0>2d}-fv5.0.nc\".format(y,y,m,d)\n",
    "    \n",
    "    return filename if os.path.exists(filename) else None\n",
    "    \n",
    "with open(\"../0 save inner data/match data.pkl\",'rb') as f:\n",
    "    dates,lon,lat = pickle.load(f)\n",
    "\n",
    "data = GD.read_data(dates,\n",
    "                    lon,\n",
    "                    lat,\n",
    "                    window_t=15,\n",
    "                    window_s=3,\n",
    "                    variables_param=variables_param,\n",
    "                    FilePathNameFind_Fun=lambda x1, x2, x3, x4, x5: '/')\n",
    "# with open(\"I:/satellite match data/Rrs510.pkl\",'wb') as f:\n",
    "#     pickle.dump(data, f)"
   ]
  },
  {
   "cell_type": "code",
   "execution_count": 8,
   "id": "605e2f99",
   "metadata": {},
   "outputs": [
    {
     "name": "stdout",
     "output_type": "stream",
     "text": [
      "use length:86327\n",
      "all data file:10684\n",
      "read inforamtion, number:10684, percentage process:100.0000%, all data file:10684\n",
      " read inforamtion done!\n",
      "write data inforamtion,  number: 1294905,  percentage: 100.0000%\n",
      " write data inforamtion done!\n"
     ]
    }
   ],
   "source": [
    "# 412 443 490 510 560 665\n",
    "variables_param = {\n",
    "    \"datafilepath\":\"F:/occci-v5.0/Rrs/\",\n",
    "    \"var\":\"Rrs_560\",\n",
    "    \"lon_var\":\"lon\",\n",
    "    \"lat_var\":\"lat\"\n",
    "}\n",
    "\n",
    "def FilePathNameFind_Fun(path,y,m,d,yd):\n",
    "    filename = path+\"{:0>4d}/ESACCI-OC-L3S-RRS-MERGED-1D_DAILY_4km_GEO_PML_RRS-{:0>4d}{:0>2d}{:0>2d}-fv5.0.nc\".format(y,y,m,d)\n",
    "    \n",
    "    return filename if os.path.exists(filename) else None\n",
    "    \n",
    "with open(\"../0 save inner data/match data.pkl\",'rb') as f:\n",
    "    dates,lon,lat = pickle.load(f)\n",
    "\n",
    "data = GD.read_data(dates,\n",
    "                    lon,\n",
    "                    lat,\n",
    "                    window_t=15,\n",
    "                    window_s=3,\n",
    "                    variables_param=variables_param,\n",
    "                    FilePathNameFind_Fun=FilePathNameFind_Fun)\n",
    "# with open(\"I:/satellite match data/Rrs560.pkl\",'wb') as f:\n",
    "#     pickle.dump(data, f)"
   ]
  },
  {
   "cell_type": "code",
   "execution_count": 9,
   "id": "348f749a",
   "metadata": {},
   "outputs": [
    {
     "name": "stdout",
     "output_type": "stream",
     "text": [
      "use length:86327\n",
      "all data file:10684\n",
      "read inforamtion, number:10684, percentage process:100.0000%, all data file:10684\n",
      " read inforamtion done!\n",
      "write data inforamtion,  number: 1294905,  percentage: 100.0000%\n",
      " write data inforamtion done!\n"
     ]
    }
   ],
   "source": [
    "# 412 443 490 510 560 665\n",
    "variables_param = {\n",
    "    \"datafilepath\":\"F:/occci-v5.0/Rrs/\",\n",
    "    \"var\":\"Rrs_665\",\n",
    "    \"lon_var\":\"lon\",\n",
    "    \"lat_var\":\"lat\"\n",
    "}\n",
    "\n",
    "def FilePathNameFind_Fun(path,y,m,d,yd):\n",
    "    filename = path+\"{:0>4d}/ESACCI-OC-L3S-RRS-MERGED-1D_DAILY_4km_GEO_PML_RRS-{:0>4d}{:0>2d}{:0>2d}-fv5.0.nc\".format(y,y,m,d)\n",
    "    \n",
    "    return filename if os.path.exists(filename) else None\n",
    "    \n",
    "with open(\"../0 save inner data/match data.pkl\",'rb') as f:\n",
    "    dates,lon,lat = pickle.load(f)\n",
    "    \n",
    "data = GD.read_data(dates,\n",
    "                    lon,\n",
    "                    lat,\n",
    "                    window_t=15,\n",
    "                    window_s=3,\n",
    "                    variables_param=variables_param,\n",
    "                    FilePathNameFind_Fun=lambda x1, x2, x3, x4, x5: '/')\n",
    "# with open(\"I:/satellite match data/Rrs665.pkl\",'wb') as f:\n",
    "#     pickle.dump(data, f)"
   ]
  },
  {
   "cell_type": "markdown",
   "id": "ddc414e2",
   "metadata": {},
   "source": [
    "### sla ugos vgos "
   ]
  },
  {
   "cell_type": "code",
   "execution_count": 10,
   "id": "a90c2cd7",
   "metadata": {},
   "outputs": [
    {
     "name": "stdout",
     "output_type": "stream",
     "text": [
      "use length:86327\n",
      "all data file:10684\n",
      "read inforamtion, number:10684, percentage process:100.0000%, all data file:10684\n",
      " read inforamtion done!\n",
      "write data inforamtion,  number: 1294905,  percentage: 100.0000%\n",
      " write data inforamtion done!\n"
     ]
    }
   ],
   "source": [
    "variables_param = {\n",
    "    \"datafilepath\":\"G:/copernicus/SEALEVEL_GLO_PHY_L4_REP_OBSERVATIONS_008_047/dataset-duacs-rep-global-merged-allsat-phy-l4/\",\n",
    "    \"var\":\"sla\",\n",
    "    \"lon_var\":\"longitude\",\n",
    "    \"lat_var\":\"latitude\"\n",
    "}\n",
    "\n",
    "def FilePathNameFind_Fun(path,y,m,d,yd):\n",
    "    filename = None\n",
    "    flag = \"dt_global_allsat_phy_l4_{:0>4d}{:0>2d}{:0>2d}_\".format(y,m,d)\n",
    "    wpath = path+\"{:0>4d}/{:0>2d}/\".format(y,m)\n",
    "    if os.path.exists(wpath):\n",
    "        for file in os.listdir(wpath):\n",
    "            if flag in file:\n",
    "                filename = wpath+file\n",
    "\n",
    "    return filename\n",
    "\n",
    "with open(\"../0 save inner data/match data.pkl\",'rb') as f:\n",
    "    dates,lon,lat = pickle.load(f)    \n",
    "\n",
    "lon[lon<0] = lon[lon<0]+360\n",
    "data = GD.read_data(dates,\n",
    "                    lon,\n",
    "                    lat,\n",
    "                    window_t=15,\n",
    "                    window_s=3,\n",
    "                    variables_param=variables_param,\n",
    "                    FilePathNameFind_Fun=lambda x1, x2, x3, x4, x5: '/')\n",
    "# with open(\"../0 save inner data/satellite match data/sla.pkl\",'wb') as f:\n",
    "#     pickle.dump(data, f)"
   ]
  },
  {
   "cell_type": "code",
   "execution_count": 11,
   "id": "1b0ac469",
   "metadata": {},
   "outputs": [
    {
     "name": "stdout",
     "output_type": "stream",
     "text": [
      "use length:86327\n",
      "all data file:10684\n",
      "read inforamtion, number:10684, percentage process:100.0000%, all data file:10684\n",
      " read inforamtion done!\n",
      "write data inforamtion,  number: 1294905,  percentage: 100.0000%\n",
      " write data inforamtion done!\n"
     ]
    }
   ],
   "source": [
    "variables_param = {\n",
    "    \"datafilepath\":\"G:/copernicus/SEALEVEL_GLO_PHY_L4_REP_OBSERVATIONS_008_047/dataset-duacs-rep-global-merged-allsat-phy-l4/\",\n",
    "    \"var\":\"ugos\",\n",
    "    \"lon_var\":\"longitude\",\n",
    "    \"lat_var\":\"latitude\"\n",
    "}\n",
    "\n",
    "def FilePathNameFind_Fun(path,y,m,d,yd):\n",
    "    filename = None\n",
    "    flag = \"dt_global_allsat_phy_l4_{:0>4d}{:0>2d}{:0>2d}_\".format(y,m,d)\n",
    "    wpath = path+\"{:0>4d}/{:0>2d}/\".format(y,m)\n",
    "    if os.path.exists(wpath):\n",
    "        for file in os.listdir(wpath):\n",
    "            if flag in file:\n",
    "                filename = wpath+file\n",
    "\n",
    "    return filename\n",
    "\n",
    "with open(\"../0 save inner data/match data.pkl\",'rb') as f:\n",
    "    dates,lon,lat = pickle.load(f)    \n",
    "\n",
    "lon[lon<0] = lon[lon<0]+360\n",
    "data = GD.read_data(dates,\n",
    "                    lon,\n",
    "                    lat,\n",
    "                    window_t=15,\n",
    "                    window_s=3,\n",
    "                    variables_param=variables_param,\n",
    "                    FilePathNameFind_Fun=lambda x1, x2, x3, x4, x5: '/')\n",
    "# with open(\"../0 save inner data/satellite match data/ugos.pkl\",'wb') as f:\n",
    "#     pickle.dump(data, f)"
   ]
  },
  {
   "cell_type": "code",
   "execution_count": 12,
   "id": "1e161ccf",
   "metadata": {
    "scrolled": true
   },
   "outputs": [
    {
     "name": "stdout",
     "output_type": "stream",
     "text": [
      "use length:86327\n",
      "all data file:10684\n",
      "read inforamtion, number:10684, percentage process:100.0000%, all data file:10684\n",
      " read inforamtion done!\n",
      "write data inforamtion,  number: 1294905,  percentage: 100.0000%\n",
      " write data inforamtion done!\n"
     ]
    }
   ],
   "source": [
    "variables_param = {\n",
    "    \"datafilepath\":\"G:/copernicus/SEALEVEL_GLO_PHY_L4_REP_OBSERVATIONS_008_047/dataset-duacs-rep-global-merged-allsat-phy-l4/\",\n",
    "    \"var\":\"vgos\",\n",
    "    \"lon_var\":\"longitude\",\n",
    "    \"lat_var\":\"latitude\"\n",
    "}\n",
    "\n",
    "def FilePathNameFind_Fun(path,y,m,d,yd):\n",
    "    filename = None\n",
    "    flag = \"dt_global_allsat_phy_l4_{:0>4d}{:0>2d}{:0>2d}_\".format(y,m,d)\n",
    "    wpath = path+\"{:0>4d}/{:0>2d}/\".format(y,m)\n",
    "    if os.path.exists(wpath):\n",
    "        for file in os.listdir(wpath):\n",
    "            if flag in file:\n",
    "                filename = wpath+file\n",
    "\n",
    "    return filename\n",
    "\n",
    "with open(\"../0 save inner data/match data.pkl\",'rb') as f:\n",
    "    dates,lon,lat = pickle.load(f)    \n",
    "\n",
    "lon[lon<0] = lon[lon<0]+360\n",
    "data = GD.read_data(dates,\n",
    "                    lon,\n",
    "                    lat,\n",
    "                    window_t=15,\n",
    "                    window_s=3,\n",
    "                    variables_param=variables_param,\n",
    "                    FilePathNameFind_Fun=lambda x1, x2, x3, x4, x5: '/')\n",
    "# with open(\"../0 save inner data/satellite match data/vgos.pkl\",'wb') as f:\n",
    "#     pickle.dump(data, f)"
   ]
  },
  {
   "cell_type": "markdown",
   "id": "cc574855",
   "metadata": {
    "tags": []
   },
   "source": [
    "### chla"
   ]
  },
  {
   "cell_type": "code",
   "execution_count": 13,
   "id": "75042731",
   "metadata": {},
   "outputs": [
    {
     "name": "stdout",
     "output_type": "stream",
     "text": [
      "use length:86327\n",
      "all data file:10684\n",
      "read inforamtion, number:10684, percentage process:100.0000%, all data file:10684\n",
      " read inforamtion done!\n",
      "write data inforamtion,  number: 1294905,  percentage: 100.0000%\n",
      " write data inforamtion done!\n"
     ]
    }
   ],
   "source": [
    "variables_param = {\n",
    "    \"datafilepath\":\"K:/occci-v5.0/chlor_a/\",\n",
    "    \"var\":\"chlor_a\",\n",
    "    \"lon_var\":\"lon\",\n",
    "    \"lat_var\":\"lat\"\n",
    "}\n",
    "\n",
    "def FilePathNameFind_Fun(path,y,m,d,yd):\n",
    "    filename = path+\"{:0>4d}/ESACCI-OC-L3S-CHLOR_A-MERGED-1D_DAILY_4km_GEO_PML_OCx-{:0>4d}{:0>2d}{:0>2d}-fv5.0.nc\".format(y,y,m,d)\n",
    "    return filename if os.path.exists(filename) else None\n",
    "    \n",
    "with open(\"../0 save inner data/match data.pkl\",'rb') as f:\n",
    "    dates,lon,lat = pickle.load(f)\n",
    "\n",
    "data = GD.read_data(dates,\n",
    "                    lon,\n",
    "                    lat,\n",
    "                    window_t=15,\n",
    "                    window_s=3,\n",
    "                    variables_param=variables_param,\n",
    "                    FilePathNameFind_Fun=lambda x1, x2, x3, x4, x5: '/')\n",
    "# with open(\"I:/satellite match data/chla.pkl\",'wb') as f:\n",
    "#     pickle.dump(data, f)"
   ]
  },
  {
   "cell_type": "code",
   "execution_count": null,
   "id": "b41c913c",
   "metadata": {},
   "outputs": [],
   "source": []
  }
 ],
 "metadata": {
  "kernelspec": {
   "display_name": "Python 3 (ipykernel)",
   "language": "python",
   "name": "python3"
  },
  "language_info": {
   "codemirror_mode": {
    "name": "ipython",
    "version": 3
   },
   "file_extension": ".py",
   "mimetype": "text/x-python",
   "name": "python",
   "nbconvert_exporter": "python",
   "pygments_lexer": "ipython3",
   "version": "3.9.13"
  }
 },
 "nbformat": 4,
 "nbformat_minor": 5
}
