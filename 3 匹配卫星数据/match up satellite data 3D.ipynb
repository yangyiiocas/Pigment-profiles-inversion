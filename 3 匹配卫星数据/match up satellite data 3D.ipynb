{
 "cells": [
  {
   "cell_type": "code",
   "execution_count": 1,
   "id": "9c52e2d8",
   "metadata": {},
   "outputs": [],
   "source": [
    "import pickle\n",
    "import datetime\n",
    "import numpy as np\n",
    "import os\n",
    "import GetData_3D as GD"
   ]
  },
  {
   "cell_type": "code",
   "execution_count": 2,
   "id": "0b5a7a38",
   "metadata": {},
   "outputs": [
    {
     "name": "stdout",
     "output_type": "stream",
     "text": [
      "use length:86327\n",
      "all data file:10684\n",
      "read inforamtion, number:10684, percentage process:100.0000%, all data file:10684\n",
      " read inforamtion done!\n",
      "write data inforamtion,  number: 1294905,  percentage: 100.0000%\n",
      " write data inforamtion done!\n"
     ]
    }
   ],
   "source": [
    "# mlotst(混合层深度) so(盐度) thetao(温度) uo(ew 速度) vo(ns 速度)\n",
    "variables_param = {\n",
    "    \"datafilepath\":\":/GLORYS12V1/\",\n",
    "    \"var\":\"so\",\n",
    "    \"lon_var\":\"longitude\",\n",
    "    \"lat_var\":\"latitude\",\n",
    "    \"depth_var\":\"depth\"\n",
    "}\n",
    "\n",
    "def FilePathNameFind_Fun(path,y,m,d,yd):\n",
    "    if str(y) in [\"1996\",\"1997\",\"1998\",\"1999\",\"2000\"]:\n",
    "        disk = \"G\"\n",
    "    elif str(y) in [\"2001\",\"2002\",\"2003\",\"2004\",\"2005\",\"2006\",\"2007\",\"2008\",\"2009\",\"2010\"]:\n",
    "        disk = \"H\"\n",
    "    elif str(y) in [\"2011\",\"2012\",\"2013\",\"2014\",\"2015\",\"2016\",\"2017\",\"2018\",\"2019\",\"2020\"]:\n",
    "        disk = \"F\"\n",
    "    else:\n",
    "        return None\n",
    "    \n",
    "    path = disk + path\n",
    "    filename = None\n",
    "    \n",
    "    wpath = path + \"{:0>4d}/{:0>2d}/\".format(y,m)\n",
    "    for file in os.listdir(wpath):\n",
    "        if \"mercatorglorys12v1_gl12_mean_{:0>4d}{:0>2d}{:0>2d}\".format(y,m,d) in file:\n",
    "            filename = wpath + file\n",
    "            \n",
    "    return filename\n",
    "    \n",
    "with open(\"../0 save inner data/match data (3D).pkl\",'rb') as f:\n",
    "    dates,lon,lat,depth = pickle.load(f)\n",
    "    \n",
    "data = GD.read_data(dates,\n",
    "                    lon,\n",
    "                    lat,\n",
    "                    depth,\n",
    "                    window_t=15,\n",
    "                    window_s=3,\n",
    "                    variables_param=variables_param,\n",
    "                    FilePathNameFind_Fun=FilePathNameFind_Fun)\n",
    "with open(\"../satellite match data/sal.pkl\",'wb') as f:\n",
    "    pickle.dump(data, f)"
   ]
  },
  {
   "cell_type": "code",
   "execution_count": 3,
   "id": "b7a7f36a",
   "metadata": {},
   "outputs": [
    {
     "name": "stdout",
     "output_type": "stream",
     "text": [
      "use length:86327\n",
      "all data file:10684\n",
      "read inforamtion, number:10684, percentage process:100.0000%, all data file:10684\n",
      " read inforamtion done!\n",
      "write data inforamtion,  number: 1294905,  percentage: 100.0000%\n",
      " write data inforamtion done!\n"
     ]
    }
   ],
   "source": [
    "# mlotst(混合层深度) so(盐度) thetao(温度) uo(ew 速度) vo(ns 速度)\n",
    "variables_param = {\n",
    "    \"datafilepath\":\":/GLORYS12V1/\",\n",
    "    \"var\":\"thetao\",\n",
    "    \"lon_var\":\"longitude\",\n",
    "    \"lat_var\":\"latitude\",\n",
    "    \"depth_var\":\"depth\"\n",
    "}\n",
    "\n",
    "def FilePathNameFind_Fun(path,y,m,d,yd):\n",
    "    if str(y) in [\"1996\",\"1997\",\"1998\",\"1999\",\"2000\"]:\n",
    "        disk = \"G\"\n",
    "    elif str(y) in [\"2001\",\"2002\",\"2003\",\"2004\",\"2005\",\"2006\",\"2007\",\"2008\",\"2009\",\"2010\"]:\n",
    "        disk = \"H\"\n",
    "    elif str(y) in [\"2011\",\"2012\",\"2013\",\"2014\",\"2015\",\"2016\",\"2017\",\"2018\",\"2019\",\"2020\"]:\n",
    "        disk = \"F\"\n",
    "    else:\n",
    "        return None\n",
    "    \n",
    "    path = disk + path\n",
    "    filesname = None\n",
    "    \n",
    "    wpath = path + \"{:0>4d}/{:0>2d}/\".format(y,m)\n",
    "    for file in os.listdir(wpath):\n",
    "        if \"mercatorglorys12v1_gl12_mean_{:0>4d}{:0>2d}{:0>2d}\".format(y,m,d) in file:\n",
    "            filename = wpath + file\n",
    "            \n",
    "    return filename\n",
    "    \n",
    "with open(\"../0 save inner data/match data (3D).pkl\",'rb') as f:\n",
    "    dates,lon,lat,depth = pickle.load(f)\n",
    "\n",
    "data = GD.read_data(dates,\n",
    "                    lon,\n",
    "                    lat,\n",
    "                    depth,\n",
    "                    window_t=15,\n",
    "                    window_s=3,\n",
    "                    variables_param=variables_param,\n",
    "                    FilePathNameFind_Fun=FilePathNameFind_Fun) \n",
    "with open(\"I:/satellite match data/tem.pkl\",'wb') as f:\n",
    "    pickle.dump(data, f)"
   ]
  },
  {
   "cell_type": "code",
   "execution_count": 4,
   "id": "6474356c",
   "metadata": {},
   "outputs": [
    {
     "name": "stdout",
     "output_type": "stream",
     "text": [
      "use length:86327\n",
      "all data file:10684\n",
      "read inforamtion, number:10684, percentage process:100.0000%, all data file:10684\n",
      " read inforamtion done!\n",
      "write data inforamtion,  number: 1294905,  percentage: 100.0000%\n",
      " write data inforamtion done!\n"
     ]
    }
   ],
   "source": [
    "# mlotst(混合层深度) so(盐度) thetao(温度) uo(ew 速度) vo(ns 速度)\n",
    "variables_param = {\n",
    "    \"datafilepath\":\":/GLORYS12V1/\",\n",
    "    \"var\":\"uo\",\n",
    "    \"lon_var\":\"longitude\",\n",
    "    \"lat_var\":\"latitude\",\n",
    "    \"depth_var\":\"depth\"\n",
    "}\n",
    "\n",
    "def FilePathNameFind_Fun(path,y,m,d,yd):\n",
    "    if str(y) in [\"1996\",\"1997\",\"1998\",\"1999\",\"2000\"]:\n",
    "        disk = \"G\"\n",
    "    elif str(y) in [\"2001\",\"2002\",\"2003\",\"2004\",\"2005\",\"2006\",\"2007\",\"2008\",\"2009\",\"2010\"]:\n",
    "        disk = \"H\"\n",
    "    elif str(y) in [\"2011\",\"2012\",\"2013\",\"2014\",\"2015\",\"2016\",\"2017\",\"2018\",\"2019\",\"2020\"]:\n",
    "        disk = \"F\"\n",
    "    else:\n",
    "        return None\n",
    "    \n",
    "    path = disk + path\n",
    "    filesname = None\n",
    "    \n",
    "    wpath = path + \"{:0>4d}/{:0>2d}/\".format(y,m)\n",
    "    for file in os.listdir(wpath):\n",
    "        if \"mercatorglorys12v1_gl12_mean_{:0>4d}{:0>2d}{:0>2d}\".format(y,m,d) in file:\n",
    "            filename = wpath + file\n",
    "            \n",
    "    return filename\n",
    "    \n",
    "with open(\"../0 save inner data/match data (3D).pkl\",'rb') as f:\n",
    "    dates,lon,lat,depth = pickle.load(f)\n",
    "\n",
    "data = GD.read_data(dates,\n",
    "                    lon,\n",
    "                    lat,\n",
    "                    depth,\n",
    "                    window_t=15,\n",
    "                    window_s=3,\n",
    "                    variables_param=variables_param,\n",
    "                    FilePathNameFind_Fun=FilePathNameFind_Fun)\n",
    "with open(\"I:/satellite match data/uo.pkl\",'wb') as f:\n",
    "    pickle.dump(data, f)"
   ]
  },
  {
   "cell_type": "code",
   "execution_count": 5,
   "id": "edf743ef",
   "metadata": {},
   "outputs": [
    {
     "name": "stdout",
     "output_type": "stream",
     "text": [
      "use length:86327\n",
      "all data file:10684\n",
      "read inforamtion, number:10684, percentage process:100.0000%, all data file:10684\n",
      " read inforamtion done!\n",
      "write data inforamtion,  number: 1294905,  percentage: 100.0000%\n",
      " write data inforamtion done!\n"
     ]
    }
   ],
   "source": [
    "# mlotst(混合层深度) so(盐度) thetao(温度) uo(ew 速度) vo(ns 速度)\n",
    "variables_param = {\n",
    "    \"datafilepath\":\":/GLORYS12V1/\",\n",
    "    \"var\":\"vo\",\n",
    "    \"lon_var\":\"longitude\",\n",
    "    \"lat_var\":\"latitude\",\n",
    "    \"depth_var\":\"depth\"\n",
    "}\n",
    "\n",
    "def FilePathNameFind_Fun(path,y,m,d,yd):\n",
    "    if str(y) in [\"1996\",\"1997\",\"1998\",\"1999\",\"2000\"]:\n",
    "        disk = \"G\"\n",
    "    elif str(y) in [\"2001\",\"2002\",\"2003\",\"2004\",\"2005\",\"2006\",\"2007\",\"2008\",\"2009\",\"2010\"]:\n",
    "        disk = \"H\"\n",
    "    elif str(y) in [\"2011\",\"2012\",\"2013\",\"2014\",\"2015\",\"2016\",\"2017\",\"2018\",\"2019\",\"2020\"]:\n",
    "        disk = \"F\"\n",
    "    else:\n",
    "        return None\n",
    "    \n",
    "    path = disk + path\n",
    "    filesname = None\n",
    "    \n",
    "    wpath = path + \"{:0>4d}/{:0>2d}/\".format(y,m)\n",
    "    for file in os.listdir(wpath):\n",
    "        if \"mercatorglorys12v1_gl12_mean_{:0>4d}{:0>2d}{:0>2d}\".format(y,m,d) in file:\n",
    "            filename = wpath + file\n",
    "            \n",
    "    return filename\n",
    "    \n",
    "with open(\"../0 save inner data/match data (3D).pkl\",'rb') as f:\n",
    "    dates,lon,lat,depth = pickle.load(f)\n",
    "\n",
    "data = GD.read_data(dates,\n",
    "                    lon,\n",
    "                    lat,\n",
    "                    depth,\n",
    "                    window_t=15,\n",
    "                    window_s=3,\n",
    "                    variables_param=variables_param,\n",
    "                    FilePathNameFind_Fun=FilePathNameFind_Fun)\n",
    "with open(\"I:/satellite match data/vo.pkl\",'wb') as f:\n",
    "    pickle.dump(data, f)"
   ]
  },
  {
   "cell_type": "code",
   "execution_count": null,
   "id": "a74cafa9",
   "metadata": {},
   "outputs": [],
   "source": []
  },
  {
   "cell_type": "code",
   "execution_count": null,
   "id": "8f3951be",
   "metadata": {},
   "outputs": [],
   "source": [
    "    "
   ]
  },
  {
   "cell_type": "code",
   "execution_count": null,
   "id": "4670be67",
   "metadata": {},
   "outputs": [],
   "source": []
  },
  {
   "cell_type": "code",
   "execution_count": null,
   "id": "947b8cd4",
   "metadata": {},
   "outputs": [],
   "source": []
  },
  {
   "cell_type": "code",
   "execution_count": null,
   "id": "9b0abff9",
   "metadata": {},
   "outputs": [],
   "source": []
  }
 ],
 "metadata": {
  "kernelspec": {
   "display_name": "Python 3 (ipykernel)",
   "language": "python",
   "name": "python3"
  },
  "language_info": {
   "codemirror_mode": {
    "name": "ipython",
    "version": 3
   },
   "file_extension": ".py",
   "mimetype": "text/x-python",
   "name": "python",
   "nbconvert_exporter": "python",
   "pygments_lexer": "ipython3",
   "version": "3.9.13"
  }
 },
 "nbformat": 4,
 "nbformat_minor": 5
}
